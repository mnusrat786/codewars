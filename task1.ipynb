{
 "cells": [
  {
   "cell_type": "markdown",
   "id": "f6c3cc47",
   "metadata": {},
   "source": [
    "Write a function that takes in a string of one or more words, and returns the same string, but with all five or more letter words reversed (Just like the name of this Kata). Strings passed in will consist of only letters and spaces. Spaces will be included only when more than one word is present."
   ]
  },
  {
   "cell_type": "code",
   "execution_count": 38,
   "id": "97f82709",
   "metadata": {},
   "outputs": [],
   "source": [
    "def spin_words(sentence):\n",
    "    # a = sentence.split('')\n",
    "    listt = []\n",
    "    for i in sentence.split():\n",
    "        \n",
    "        if len(i)>=5:\n",
    "            i = i[::-1]\n",
    "            listt.append(i)\n",
    "        else:\n",
    "            listt.append(i)           \n",
    "\n",
    "    return \" \".join(listt)"
   ]
  },
  {
   "cell_type": "code",
   "execution_count": 40,
   "id": "c10e6c26",
   "metadata": {},
   "outputs": [
    {
     "data": {
      "text/plain": [
       "'Hey wollef sroirraw'"
      ]
     },
     "execution_count": 40,
     "metadata": {},
     "output_type": "execute_result"
    }
   ],
   "source": [
    "spin_words( \"Hey fellow warriors\" )"
   ]
  },
  {
   "cell_type": "code",
   "execution_count": 41,
   "id": "ac488f15",
   "metadata": {},
   "outputs": [
    {
     "data": {
      "text/plain": [
       "'This is a test'"
      ]
     },
     "execution_count": 41,
     "metadata": {},
     "output_type": "execute_result"
    }
   ],
   "source": [
    "spin_words( \"This is a test\")"
   ]
  },
  {
   "cell_type": "code",
   "execution_count": 42,
   "id": "665d1c19",
   "metadata": {},
   "outputs": [
    {
     "data": {
      "text/plain": [
       "'This is rehtona test'"
      ]
     },
     "execution_count": 42,
     "metadata": {},
     "output_type": "execute_result"
    }
   ],
   "source": [
    "spin_words( \"This is another test\" )"
   ]
  },
  {
   "cell_type": "markdown",
   "id": "2eabfb9c",
   "metadata": {},
   "source": [
    "# BREAKING DOWN THE CODE"
   ]
  },
  {
   "cell_type": "code",
   "execution_count": 39,
   "id": "90440a2f",
   "metadata": {},
   "outputs": [],
   "source": [
    "sentence = \"Hey fellow warriors\""
   ]
  },
  {
   "cell_type": "code",
   "execution_count": 28,
   "id": "af3c7e21",
   "metadata": {},
   "outputs": [
    {
     "data": {
      "text/plain": [
       "['Hey', 'fellow', 'warriors']"
      ]
     },
     "execution_count": 28,
     "metadata": {},
     "output_type": "execute_result"
    }
   ],
   "source": [
    "sentence.split()"
   ]
  },
  {
   "cell_type": "code",
   "execution_count": 29,
   "id": "d2692ea8",
   "metadata": {},
   "outputs": [],
   "source": [
    "listt=[]\n",
    "for i in sentence.split():\n",
    "        \n",
    "        if len(i)>=5:\n",
    "            i = i[::-1]\n",
    "            listt.append(i)\n",
    "        else:\n",
    "            listt.append(i)\n",
    "            "
   ]
  },
  {
   "cell_type": "code",
   "execution_count": 30,
   "id": "14a967ee",
   "metadata": {},
   "outputs": [
    {
     "data": {
      "text/plain": [
       "['Hey', 'wollef', 'sroirraw']"
      ]
     },
     "execution_count": 30,
     "metadata": {},
     "output_type": "execute_result"
    }
   ],
   "source": [
    "listt"
   ]
  },
  {
   "cell_type": "code",
   "execution_count": 36,
   "id": "59950496",
   "metadata": {},
   "outputs": [],
   "source": [
    "joined = \" \".join(listt)"
   ]
  },
  {
   "cell_type": "code",
   "execution_count": 37,
   "id": "90828f5a",
   "metadata": {},
   "outputs": [
    {
     "data": {
      "text/plain": [
       "'Hey wollef sroirraw'"
      ]
     },
     "execution_count": 37,
     "metadata": {},
     "output_type": "execute_result"
    }
   ],
   "source": [
    "joined"
   ]
  },
  {
   "cell_type": "code",
   "execution_count": 31,
   "id": "8cea1a63",
   "metadata": {},
   "outputs": [
    {
     "data": {
      "text/plain": [
       "'Hey wollef sroirraw'"
      ]
     },
     "execution_count": 31,
     "metadata": {},
     "output_type": "execute_result"
    }
   ],
   "source": [
    "spin_words( \"Hey fellow warriors\" )"
   ]
  },
  {
   "cell_type": "code",
   "execution_count": 5,
   "id": "3c0751ac",
   "metadata": {},
   "outputs": [
    {
     "data": {
      "text/plain": [
       "'This is a test'"
      ]
     },
     "execution_count": 5,
     "metadata": {},
     "output_type": "execute_result"
    }
   ],
   "source": [
    "spin_words( \"This is a test\")"
   ]
  },
  {
   "cell_type": "code",
   "execution_count": 7,
   "id": "f33887ad",
   "metadata": {},
   "outputs": [
    {
     "data": {
      "text/plain": [
       "'This is rehtona test'"
      ]
     },
     "execution_count": 7,
     "metadata": {},
     "output_type": "execute_result"
    }
   ],
   "source": [
    "spin_words( \"This is another test\" )"
   ]
  },
  {
   "cell_type": "markdown",
   "id": "d149c7f0",
   "metadata": {},
   "source": []
  }
 ],
 "metadata": {
  "kernelspec": {
   "display_name": "Python 3 (ipykernel)",
   "language": "python",
   "name": "python3"
  },
  "language_info": {
   "codemirror_mode": {
    "name": "ipython",
    "version": 3
   },
   "file_extension": ".py",
   "mimetype": "text/x-python",
   "name": "python",
   "nbconvert_exporter": "python",
   "pygments_lexer": "ipython3",
   "version": "3.9.7"
  }
 },
 "nbformat": 4,
 "nbformat_minor": 5
}
